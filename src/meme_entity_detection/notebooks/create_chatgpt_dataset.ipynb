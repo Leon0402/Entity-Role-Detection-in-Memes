{
 "cells": [
  {
   "cell_type": "code",
   "execution_count": 34,
   "metadata": {},
   "outputs": [],
   "source": [
    "import pandas as pd  \n",
    "\n",
    "\n",
    "file_path =  \"../../../data/ocr_data_openai_preprocessed.json\"\n",
    "\n",
    "  \n",
    "jsonObj = pd.read_json(path_or_buf=file_path, lines=False)\n",
    "df = jsonObj.T\n",
    "\n",
    "df = df.rename(columns={\"OCR\": \"OCR GPT-4o\",\n",
    "                    \"IMAGE_DESCRIPTION\": \"IMAGE DESCRIPTION GPT-4o\",\n",
    "                    \"CLASSIFICATION\": \"CLASSIFICATION GPT-4o\"\n",
    "                     })"
   ]
  },
  {
   "cell_type": "code",
   "execution_count": 38,
   "metadata": {},
   "outputs": [],
   "source": [
    "datasets = [\"dev_test\", \"dev\", \"train\"]\n",
    "\n",
    "for dataset in datasets:\n",
    "    file_path =  f\"../../../data/HVVMemes/annotations/{dataset}.jsonl\"\n",
    "    jsonObj = pd.read_json(path_or_buf=file_path, lines=True)\n",
    "    jsonObj = jsonObj.T[~jsonObj.columns.str.contains(\"GPT-4o\")].T\n",
    "\n",
    "    jsonObj = jsonObj.merge(df, right_index=True, left_on=\"image\", how=\"left\")\n",
    "\n",
    "\n",
    "    with open(file_path, \"w\") as f:\n",
    "        f.write(jsonObj.to_json(orient='records', lines=True))"
   ]
  }
 ],
 "metadata": {
  "kernelspec": {
   "display_name": ".venv",
   "language": "python",
   "name": "python3"
  },
  "language_info": {
   "codemirror_mode": {
    "name": "ipython",
    "version": 3
   },
   "file_extension": ".py",
   "mimetype": "text/x-python",
   "name": "python",
   "nbconvert_exporter": "python",
   "pygments_lexer": "ipython3",
   "version": "3.10.9"
  }
 },
 "nbformat": 4,
 "nbformat_minor": 2
}

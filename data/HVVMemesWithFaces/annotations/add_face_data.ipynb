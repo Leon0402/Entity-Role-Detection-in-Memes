{
 "cells": [
  {
   "cell_type": "code",
   "execution_count": 6,
   "metadata": {},
   "outputs": [
    {
     "name": "stderr",
     "output_type": "stream",
     "text": [
      "/tmp/ipykernel_71702/2214736935.py:9: SettingWithCopyWarning: \n",
      "A value is trying to be set on a copy of a slice from a DataFrame.\n",
      "Try using .loc[row_indexer,col_indexer] = value instead\n",
      "\n",
      "See the caveats in the documentation: https://pandas.pydata.org/pandas-docs/stable/user_guide/indexing.html#returning-a-view-versus-a-copy\n",
      "  img_with_faces[\"faces\"] = img_with_faces[\"faces\"].apply(lambda x: x[0]).str.extract(r'([A-Za-z_]+)_[\\[]')\n",
      "/tmp/ipykernel_71702/2214736935.py:10: SettingWithCopyWarning: \n",
      "A value is trying to be set on a copy of a slice from a DataFrame.\n",
      "Try using .loc[row_indexer,col_indexer] = value instead\n",
      "\n",
      "See the caveats in the documentation: https://pandas.pydata.org/pandas-docs/stable/user_guide/indexing.html#returning-a-view-versus-a-copy\n",
      "  img_with_faces[\"faces\"] = img_with_faces[\"faces\"].str.replace('_', ' ')\n"
     ]
    }
   ],
   "source": [
    "import pandas as pd  \n",
    "\n",
    "\n",
    "file_path =  \"../../../data/HVVMemesWithFaces/annotations/annotations_logically.jsonl\"\n",
    "\n",
    "  \n",
    "jsonObj = pd.read_json(path_or_buf=file_path, lines=True)\n",
    "img_with_faces = jsonObj[jsonObj[\"faces\"].apply(lambda x: x != [])]\n",
    "img_with_faces[\"faces\"] = img_with_faces[\"faces\"].apply(lambda x: x[0]).str.extract(r'([A-Za-z_]+)_[\\[]')\n",
    "img_with_faces[\"faces\"] = img_with_faces[\"faces\"].str.replace('_', ' ')\n",
    "img_with_faces = img_with_faces.drop_duplicates(subset=[\"OCR\", \"image\", \"faces\"])\n",
    "img_with_faces[\"faces\"] = img_with_faces[\"faces\"].apply(lambda x: [x])\n"
   ]
  },
  {
   "cell_type": "code",
   "execution_count": 22,
   "metadata": {},
   "outputs": [],
   "source": [
    "datasets = [\"dev_test\", \"dev\", \"train\"]\n",
    "\n",
    "for dataset in datasets:\n",
    "    file_path =  f\"../../../data/HVVMemes/annotations/{dataset}.jsonl\"\n",
    "    jsonObj = pd.read_json(path_or_buf=file_path, lines=True)\n",
    "    jsonObj = jsonObj.merge(img_with_faces[[\"image\", \"faces\"]], on=\"image\", how=\"left\")\n",
    "\n",
    "\n",
    "    with open(file_path.replace(\"HVVMemes\", \"HVVMemesWithFaces\"), \"w\") as f:\n",
    "        f.write(jsonObj.to_json(orient='records', lines=True))"
   ]
  }
 ],
 "metadata": {
  "kernelspec": {
   "display_name": ".venv",
   "language": "python",
   "name": "python3"
  },
  "language_info": {
   "codemirror_mode": {
    "name": "ipython",
    "version": 3
   },
   "file_extension": ".py",
   "mimetype": "text/x-python",
   "name": "python",
   "nbconvert_exporter": "python",
   "pygments_lexer": "ipython3",
   "version": "3.10.9"
  }
 },
 "nbformat": 4,
 "nbformat_minor": 2
}
